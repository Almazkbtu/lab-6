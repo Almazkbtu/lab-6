{
 "cells": [
  {
   "cell_type": "code",
   "execution_count": 3,
   "id": "d5184808-05a5-4f52-8308-e09ecb17de7d",
   "metadata": {},
   "outputs": [
    {
     "name": "stdin",
     "output_type": "stream",
     "text": [
      " 10 20 10 20 10\n"
     ]
    },
    {
     "name": "stdout",
     "output_type": "stream",
     "text": [
      "400000\n"
     ]
    }
   ],
   "source": [
    "import math \n",
    "def pro(a):\n",
    "    return math.prod(a)\n",
    "a = [int(i) for i in input().split()]\n",
    "print(pro(a))"
   ]
  },
  {
   "cell_type": "code",
   "execution_count": 5,
   "id": "3c490918-ea14-4a92-9697-a9ac9113ac3b",
   "metadata": {},
   "outputs": [
    {
     "name": "stdin",
     "output_type": "stream",
     "text": [
      " Almazzzz\n"
     ]
    },
    {
     "name": "stdout",
     "output_type": "stream",
     "text": [
      "(1, 7)\n"
     ]
    }
   ],
   "source": [
    "def check(s):\n",
    "    a = sum(1 for x in s if x.isupper())\n",
    "    b = sum(1 for x in s if x.islower())\n",
    "    return a,b\n",
    "s = input()\n",
    "print(check(s))"
   ]
  },
  {
   "cell_type": "code",
   "execution_count": 7,
   "id": "76c6b4c1-2f16-4ab7-8d2f-307ae9e8ef24",
   "metadata": {},
   "outputs": [
    {
     "name": "stdin",
     "output_type": "stream",
     "text": [
      " Almazzzz\n"
     ]
    },
    {
     "name": "stdout",
     "output_type": "stream",
     "text": [
      "False\n"
     ]
    }
   ],
   "source": [
    "def pal(s):\n",
    "    s=s.lower()\n",
    "    return s == s[::-1]\n",
    "s = input()\n",
    "print(pal(s))"
   ]
  },
  {
   "cell_type": "code",
   "execution_count": 9,
   "id": "f0cb3557-fee1-4307-9ac1-af8f86c468ac",
   "metadata": {},
   "outputs": [
    {
     "name": "stdin",
     "output_type": "stream",
     "text": [
      " 10\n",
      " 20\n"
     ]
    },
    {
     "name": "stdout",
     "output_type": "stream",
     "text": [
      "Square root of  10  after  20  miliseconds is  3.1622776601683795\n"
     ]
    }
   ],
   "source": [
    "import time\n",
    "a = int(input())\n",
    "b = int(input())\n",
    "time.sleep(0.001*b)\n",
    "print(\"Square root of \", a , \" after \", b ,\" miliseconds is \" , a**(1/2) )"
   ]
  },
  {
   "cell_type": "code",
   "execution_count": 11,
   "id": "12bdb246-ab94-4cfc-9f34-73fe2744048f",
   "metadata": {},
   "outputs": [
    {
     "name": "stdout",
     "output_type": "stream",
     "text": [
      "True\n"
     ]
    }
   ],
   "source": [
    "def shyndyk(a):\n",
    "    return all(a)\n",
    "a = (1, True, \"Hello\", [1, 2, 3])\n",
    "print(shyndyk(a))"
   ]
  },
  {
   "cell_type": "code",
   "execution_count": null,
   "id": "c8a2f33d-6997-4ee1-89f7-7cdd9fd1593d",
   "metadata": {},
   "outputs": [],
   "source": []
  }
 ],
 "metadata": {
  "kernelspec": {
   "display_name": "Python 3 (ipykernel)",
   "language": "python",
   "name": "python3"
  },
  "language_info": {
   "codemirror_mode": {
    "name": "ipython",
    "version": 3
   },
   "file_extension": ".py",
   "mimetype": "text/x-python",
   "name": "python",
   "nbconvert_exporter": "python",
   "pygments_lexer": "ipython3",
   "version": "3.12.7"
  }
 },
 "nbformat": 4,
 "nbformat_minor": 5
}
