{
 "cells": [
  {
   "cell_type": "code",
   "execution_count": 1,
   "id": "77500e8f-6bd4-409f-8e1a-ecec615b94da",
   "metadata": {},
   "outputs": [
    {
     "name": "stdin",
     "output_type": "stream",
     "text": [
      " D:\\D\n"
     ]
    },
    {
     "name": "stdout",
     "output_type": "stream",
     "text": [
      "[]\n",
      "['AA.cpp', 'AA.exe', 'AA.o', 'AD.cpp', 'AD.exe', 'AD.o', 'BB.cpp', 'BB.exe', 'BB.o', 'DD.cpp', 'DD.exe', 'DD.o', 'UU.cpp', 'UU.exe', 'UU.o']\n",
      "['AA.cpp', 'AA.exe', 'AA.o', 'AD.cpp', 'AD.exe', 'AD.o', 'BB.cpp', 'BB.exe', 'BB.o', 'DD.cpp', 'DD.exe', 'DD.o', 'UU.cpp', 'UU.exe', 'UU.o']\n"
     ]
    }
   ],
   "source": [
    "import os\n",
    "zhol = input()\n",
    "if os.path.exists(zhol):\n",
    "    bar = os.listdir(zhol)\n",
    "    catalog = []\n",
    "    file = []\n",
    "    for i in bar:\n",
    "        nzhol = os.path.join(zhol, i)\n",
    "        if os.path.isdir(nzhol):\n",
    "            catalog.append(i)\n",
    "        elif os.path.isfile(nzhol):\n",
    "            file.append(i)\n",
    "    print(catalog)\n",
    "    print(file)\n",
    "    print(bar)\n",
    "else:\n",
    "    print(\"Try again\")"
   ]
  },
  {
   "cell_type": "code",
   "execution_count": 3,
   "id": "ff549b1e-35aa-4c66-93ed-9b8cac89c242",
   "metadata": {},
   "outputs": [
    {
     "name": "stdin",
     "output_type": "stream",
     "text": [
      " D:\\D\n"
     ]
    },
    {
     "name": "stdout",
     "output_type": "stream",
     "text": [
      "There a road:  True\n",
      "Reading: True\n",
      "Writing: True\n",
      "For do:  True\n"
     ]
    }
   ],
   "source": [
    "import os\n",
    "zhol = input()\n",
    "print(\"There a road: \", os.access(zhol, os.F_OK))\n",
    "print(\"Reading:\", os.access(zhol, os.R_OK))\n",
    "print(\"Writing:\", os.access(zhol, os.W_OK))\n",
    "print(\"For do: \", os.access(zhol, os.X_OK))"
   ]
  },
  {
   "cell_type": "code",
   "execution_count": 5,
   "id": "509ba328-4855-4b93-ab1f-2987c4ccfe3c",
   "metadata": {},
   "outputs": [
    {
     "name": "stdin",
     "output_type": "stream",
     "text": [
      " D:\\D\n"
     ]
    },
    {
     "name": "stdout",
     "output_type": "stream",
     "text": [
      "There a correct way\n",
      "Catalog: D:\\\n",
      "File: D\n"
     ]
    }
   ],
   "source": [
    "import os\n",
    "zhol = input()\n",
    "if os.path.exists(zhol):\n",
    "    catalog, file = os.path.split(zhol)\n",
    "    print(\"There a correct way\")\n",
    "    print(\"Catalog:\", catalog)\n",
    "    print(\"File:\", file)\n",
    "else:\n",
    "    print(\"Try again\")"
   ]
  },
  {
   "cell_type": "code",
   "execution_count": 21,
   "id": "e6836a9c-2ba9-444b-9a43-e4fd371e6895",
   "metadata": {},
   "outputs": [
    {
     "name": "stdin",
     "output_type": "stream",
     "text": [
      "  C:\\\\Users\\\\asylb\\\\OneDrive\\\\Рабочий стол\\\\almaz.txt\n"
     ]
    },
    {
     "name": "stdout",
     "output_type": "stream",
     "text": [
      "10\n"
     ]
    }
   ],
   "source": [
    "import os\n",
    "zhol = input().strip()\n",
    "if os.path.isfile(zhol):  # Файл бар ма?\n",
    "    with open(zhol, \"r\", encoding=\"utf-8\") as doc:\n",
    "        zholdar = doc.readlines()\n",
    "        print(len(zholdar))\n",
    "else:\n",
    "    print(\"Try again\")"
   ]
  },
  {
   "cell_type": "code",
   "execution_count": 23,
   "id": "d53dced7-9a25-4bde-afbe-ae90480bcaed",
   "metadata": {},
   "outputs": [
    {
     "name": "stdin",
     "output_type": "stream",
     "text": [
      " C:\\\\Users\\\\asylb\\\\OneDrive\\\\Рабочий стол\\\\almaz.txt\n",
      " Almaz aa a\n"
     ]
    },
    {
     "name": "stdout",
     "output_type": "stream",
     "text": [
      "Succesful\n"
     ]
    }
   ],
   "source": [
    "import os\n",
    "zhol = input()\n",
    "write = [str(i) for i in input().split()]\n",
    "catalog, file = os.path.split(zhol)\n",
    "with open(file, \"w\", encoding = \"utf-8\") as doc:\n",
    "    for i in write:\n",
    "        doc.write(i + '\\n')\n",
    "print(\"Succesful\")"
   ]
  },
  {
   "cell_type": "code",
   "execution_count": 25,
   "id": "eb89f13b-08c4-4630-873c-c897426d9e30",
   "metadata": {},
   "outputs": [
    {
     "name": "stdout",
     "output_type": "stream",
     "text": [
      "Succesful\n",
      "Succesful\n",
      "Succesful\n",
      "Succesful\n",
      "Succesful\n",
      "Succesful\n",
      "Succesful\n",
      "Succesful\n",
      "Succesful\n",
      "Succesful\n",
      "Succesful\n",
      "Succesful\n",
      "Succesful\n",
      "Succesful\n",
      "Succesful\n",
      "Succesful\n",
      "Succesful\n",
      "Succesful\n",
      "Succesful\n",
      "Succesful\n",
      "Succesful\n",
      "Succesful\n",
      "Succesful\n",
      "Succesful\n",
      "Succesful\n",
      "Succesful\n"
     ]
    }
   ],
   "source": [
    "a = ['A', 'B', 'C', 'D', 'E', 'F', 'G', 'H', 'I', 'J', 'K', 'L', 'M', 'N', 'O', 'P', 'Q', 'R', 'S', 'T', 'U', 'V', 'W', 'X', 'Y', 'Z']\n",
    "for i in a:\n",
    "    name = f\"{i}.txt\"\n",
    "    with open(name, \"w\", encoding = \"utf-8\") as doc:\n",
    "        doc.write(f\"{i} file was created \\n\")\n",
    "    print(\"Succesful\")"
   ]
  },
  {
   "cell_type": "code",
   "execution_count": 27,
   "id": "b0b0ef6e-6574-46b3-b0c4-a332cf482634",
   "metadata": {},
   "outputs": [
    {
     "name": "stdin",
     "output_type": "stream",
     "text": [
      " C:\\\\Users\\\\asylb\\\\OneDrive\\\\Рабочий стол\\\\almaz.txt\n",
      " C:\\\\Users\\\\asylb\\\\OneDrive\\\\Рабочий стол\\\\almaz.txt\n"
     ]
    },
    {
     "name": "stdout",
     "output_type": "stream",
     "text": [
      "Succesful\n"
     ]
    }
   ],
   "source": [
    "import os\n",
    "a = input()\n",
    "b = input()\n",
    "with open(a,\"rb\") as doc:\n",
    "    barlq = doc.read()\n",
    "with open(b,'wb') as doc1:\n",
    "    doc1.write(barlq)\n",
    "print(\"Succesful\")"
   ]
  },
  {
   "cell_type": "code",
   "execution_count": 29,
   "id": "7aeef91a-9eef-4667-a6ac-867b0f9f19c9",
   "metadata": {},
   "outputs": [
    {
     "name": "stdin",
     "output_type": "stream",
     "text": [
      " C:\\\\Users\\\\asylb\\\\OneDrive\\\\Рабочий стол\\\\almaz.txt\n"
     ]
    },
    {
     "name": "stdout",
     "output_type": "stream",
     "text": [
      "Succesful\n"
     ]
    }
   ],
   "source": [
    "import os\n",
    "a = input()\n",
    "if os.path.exists(a):\n",
    "    if os.access(a,os.W_OK):\n",
    "        os.remove(a)\n",
    "        print(\"Succesful\")\n",
    "    else:\n",
    "        print(\"Try again\")\n",
    "else:\n",
    "    print(\"Try again\")"
   ]
  },
  {
   "cell_type": "code",
   "execution_count": null,
   "id": "8f8f4ecd-9fd2-40cf-86b7-9228c52ae933",
   "metadata": {},
   "outputs": [],
   "source": []
  }
 ],
 "metadata": {
  "kernelspec": {
   "display_name": "Python 3 (ipykernel)",
   "language": "python",
   "name": "python3"
  },
  "language_info": {
   "codemirror_mode": {
    "name": "ipython",
    "version": 3
   },
   "file_extension": ".py",
   "mimetype": "text/x-python",
   "name": "python",
   "nbconvert_exporter": "python",
   "pygments_lexer": "ipython3",
   "version": "3.12.7"
  }
 },
 "nbformat": 4,
 "nbformat_minor": 5
}
